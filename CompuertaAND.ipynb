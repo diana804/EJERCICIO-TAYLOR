{
  "nbformat": 4,
  "nbformat_minor": 0,
  "metadata": {
    "colab": {
      "provenance": [],
      "authorship_tag": "ABX9TyND33D/wrP3Ao8Zci3AYXLD",
      "include_colab_link": true
    },
    "kernelspec": {
      "name": "python3",
      "display_name": "Python 3"
    },
    "language_info": {
      "name": "python"
    }
  },
  "cells": [
    {
      "cell_type": "markdown",
      "metadata": {
        "id": "view-in-github",
        "colab_type": "text"
      },
      "source": [
        "<a href=\"https://colab.research.google.com/github/diana804/EJERCICIO-TAYLOR/blob/main/CompuertaAND.ipynb\" target=\"_parent\"><img src=\"https://colab.research.google.com/assets/colab-badge.svg\" alt=\"Open In Colab\"/></a>"
      ]
    },
    {
      "cell_type": "code",
      "execution_count": null,
      "metadata": {
        "colab": {
          "base_uri": "https://localhost:8080/"
        },
        "id": "VNQ2DKTElLtg",
        "outputId": "790efee1-c2a6-4284-9554-a2b52f60fd4c"
      },
      "outputs": [
        {
          "output_type": "stream",
          "name": "stdout",
          "text": [
            "Suma ponderada (S): 2\n",
            "Salida (y): 1\n"
          ]
        }
      ],
      "source": [
        "# Compuerta AND: se activa solo si ambas entradas son 1\n",
        "x1 = 1\n",
        "x2 = 1\n",
        "\n",
        "w1 = 1\n",
        "w2 = 1\n",
        "\n",
        "umbral = 2  # Para que funcione como AND, necesitamos que S >= 2\n",
        "\n",
        "S = (x1 * w1) + (x2 * w2)\n",
        "\n",
        "if S >= umbral:\n",
        "    y = 1\n",
        "else:\n",
        "    y = 0\n",
        "\n",
        "print(f\"Suma ponderada (S): {S}\")\n",
        "print(f\"Salida (y): {y}\")\n",
        "\n"
      ]
    }
  ]
}